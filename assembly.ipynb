{
 "cells": [
  {
   "cell_type": "markdown",
   "metadata": {},
   "source": [
    "# Assembly\n",
    "\n",
    "Assembly is defined by an attempt to reverse engineer a genome. We are given overlapping pieces as the result sequencing, and we must rely on algorithms to combine these overlapping pieces together. In this demonstration, we will attempt to demonstrate why this problem is both a computational and biological challenge.\n",
    "\n",
    "First we will start with a function that returns the k-mers for a text string."
   ]
  },
  {
   "cell_type": "code",
   "execution_count": 1,
   "metadata": {},
   "outputs": [],
   "source": [
    "def composition(k,text):\n",
    "    patterns = []\n",
    "    # YOUR SOLUTION HERE\n",
    "    ## BEGIN SOLUTION\n",
    "    for i in range(0,len(text)-k+1):\n",
    "        patterns.append(text[i:(i+k)])\n",
    "    patterns = sorted(patterns)\n",
    "    ## END SOLUTION\n",
    "    return patterns"
   ]
  },
  {
   "cell_type": "code",
   "execution_count": 2,
   "metadata": {},
   "outputs": [
    {
     "data": {
      "text/plain": [
       "['ATG', 'GGG', 'GGG', 'GGT', 'GTG', 'TAT', 'TGC', 'TGG']"
      ]
     },
     "execution_count": 2,
     "metadata": {},
     "output_type": "execute_result"
    }
   ],
   "source": [
    "composition(3,\"TATGGGGTGC\")"
   ]
  },
  {
   "cell_type": "markdown",
   "metadata": {},
   "source": [
    "Modern assemblers rely on a de Bruijn graph constructed from the $k$-mer composition. We will briefly review this graph."
   ]
  },
  {
   "cell_type": "markdown",
   "metadata": {},
   "source": [
    "## Constructing de Bruijn graphs from $k$-mer composition\n",
    "Given a collection of $k$-mers Patterns, the nodes of de_bruijn(k,patterns) graphs are simply all unique (k−1)-mers occurring as a prefix or suffix in Patterns. For example, say we are given the following collection of 3-mers:\n",
    "<pre>\n",
    "AAT   ATG   ATG   ATG    CAT   CCA   GAT   GCC   GGA   GGG   GTT   TAA   TGC   TGG   TGT\n",
    "</pre>\n",
    "Then the set of eleven unique 2-mers is:\n",
    "<pre>\n",
    "AA   AT   CA   CC   GA   GC   GG   GT   TA   TG   TT\n",
    "</pre>"
   ]
  },
  {
   "cell_type": "markdown",
   "metadata": {},
   "source": [
    "For every $k$-mer in ``patterns`` we will connect its prefix node to its suffix node by a directed edge in order to produce our final graph.\n",
    "\n",
    "<img src=\"http://bioinformaticsalgorithms.com/images/Assembly/debruijn_graph_alternate_rendering.png\">"
   ]
  },
  {
   "cell_type": "markdown",
   "metadata": {},
   "source": [
    "**Stop and think:** Can you make the de Bruijn graph from the k-mers we first created?"
   ]
  },
  {
   "cell_type": "code",
   "execution_count": 3,
   "metadata": {},
   "outputs": [
    {
     "data": {
      "text/plain": [
       "['ATG', 'GGG', 'GGG', 'GGT', 'GTG', 'TAT', 'TGC', 'TGG']"
      ]
     },
     "execution_count": 3,
     "metadata": {},
     "output_type": "execute_result"
    }
   ],
   "source": [
    "kmers = composition(3,\"TATGGGGTGC\")\n",
    "kmers"
   ]
  },
  {
   "cell_type": "markdown",
   "metadata": {},
   "source": [
    "Here is a function the constructs the graph for us."
   ]
  },
  {
   "cell_type": "code",
   "execution_count": 4,
   "metadata": {},
   "outputs": [],
   "source": [
    "import assembly_helper\n",
    "\n",
    "dB = assembly_helper.de_bruijn(kmers)"
   ]
  },
  {
   "cell_type": "markdown",
   "metadata": {},
   "source": [
    "Uncomment the following line by removing the ``#`` and run the cell below to see if your graph matches"
   ]
  },
  {
   "cell_type": "code",
   "execution_count": 5,
   "metadata": {},
   "outputs": [],
   "source": [
    "#assembly_helper.show(dB)"
   ]
  },
  {
   "cell_type": "markdown",
   "metadata": {},
   "source": [
    "We will now fast forward to use a simplistic implementation of a modern assembler. It solves our inverse problem of converting our kmers to an assembly."
   ]
  },
  {
   "cell_type": "code",
   "execution_count": 6,
   "metadata": {},
   "outputs": [
    {
     "data": {
      "text/plain": [
       "'TATGGGGTGC'"
      ]
     },
     "execution_count": 6,
     "metadata": {},
     "output_type": "execute_result"
    }
   ],
   "source": [
    "seq=\"TATGGGGTGC\"\n",
    "kmers = composition(3,seq)\n",
    "assembled_seq=assembly_helper.reconstruct(kmers)\n",
    "assembled_seq"
   ]
  },
  {
   "cell_type": "markdown",
   "metadata": {},
   "source": [
    "We have an alignment algorithm so we can check it out:"
   ]
  },
  {
   "cell_type": "code",
   "execution_count": 7,
   "metadata": {},
   "outputs": [
    {
     "name": "stdout",
     "output_type": "stream",
     "text": [
      "TATGGGGTGC\n",
      "||||||||||\n",
      "TATGGGGTGC\n"
     ]
    }
   ],
   "source": [
    "sc,s1,s2=assembly_helper.align_dynamic2(seq,assembled_seq)\n",
    "assembly_helper.print_alignment(s1,s2)"
   ]
  },
  {
   "cell_type": "markdown",
   "metadata": {},
   "source": [
    "Looks like we solved it! Time to go home...\n",
    "\n",
    "Let's take a look at Yeast's genome. We will read in all the chromosomes, but for simplicity we will focus on the first 1,000 nucleotides of the first chromosome."
   ]
  },
  {
   "cell_type": "code",
   "execution_count": 8,
   "metadata": {},
   "outputs": [
    {
     "data": {
      "text/plain": [
       "'>NC_001133.9 Saccharomyces cerevisiae S288C chromosome I, complete sequence'"
      ]
     },
     "execution_count": 8,
     "metadata": {},
     "output_type": "execute_result"
    }
   ],
   "source": [
    "headers,seqs=assembly_helper.read_fasta('GCF_000146045.2_R64_genomic.fna')\n",
    "headers[0]"
   ]
  },
  {
   "cell_type": "code",
   "execution_count": 11,
   "metadata": {},
   "outputs": [],
   "source": [
    "ch1_first_1000 = seqs[0][:1000].upper()"
   ]
  },
  {
   "cell_type": "code",
   "execution_count": 12,
   "metadata": {},
   "outputs": [
    {
     "data": {
      "text/plain": [
       "'CCACACCACACCCACACACCCACACACCACACCACACACCACACCACACCCACACACACACATCCTAACACTACCCTAACACAGCCCTAATCTAACCCTGGCCAACCTGTCTCTCAACTTACCCTCCATTACCCTGCCTCCACTCGTTACCCTGTCCCATTCAACCATACCACTCCGAACCACCATCCATCCCTCTACTTACTACCACTCACCCACCGTTACCCTCCAATTACCCATATCCAACCCACTGCCACTTACCCTACCATTACCCTACCATCCACCATGACCTACTCACCATACTGTTCTTCTACCCACCATATTGAAACGCTAACAAATGATCGTAAATAACACACACGTGCTTACCCTACCACTTTATACCACCACCACATGCCATACTCACCCTCACTTGTATACTGATTTTACGTACGCACACGGATGCTACAGTATATACCATCTCAAACTTACCCTACTCTCAGATTCCACTTCACTCCATGGCCCATCTCTCACTGAATCAGTACCAAATGCACTCACATCATTATGCACGGCACTTGCCTCAGCGGTCTATACCCTGTGCCATTTACCCATAACGCCCATCATTATCCACATTTTGATATCTATATCTCATTCGGCGGTCCCAAATATTGTATAACTGCCCTTAATACATACGTTATACCACTTTTGCACCATATACTTACCACTCCATTTATATACACTTATGTCAATATTACAGAAAAATCCCCACAAAAATCACCTAAACATAAAAATATTCTACTTTTCAACAATAATACATAAACATATTGGCTTGTGGTAGCAACACTATCATGGTATCACTAACGTAAAAGTTCCTCAATATTGCAATTTGCTTGAACGGATGCTATTTCAGAATATTTCGTACTTACACAGGCCATACATTAGAATAATATGTCACATCACTGTCGTAACACTCTTTATTCACCGAGCAATAATACGGTAGTGGCTCAAACTCATGCGGGTGCTATGA'"
      ]
     },
     "execution_count": 12,
     "metadata": {},
     "output_type": "execute_result"
    }
   ],
   "source": [
    "ch1_first_1000"
   ]
  },
  {
   "cell_type": "markdown",
   "metadata": {},
   "source": [
    "**Stop and think:** Do you think we will get the correct assembly using the same parameters and functions that were so successful above?"
   ]
  },
  {
   "cell_type": "code",
   "execution_count": 18,
   "metadata": {},
   "outputs": [
    {
     "data": {
      "text/plain": [
       "'CCTGATGATGATGATGATGATCGTAGTAGTAGTACTGAGTACTCCTCCTCCTCCTCCTCCTCCTCCTCCTCCTCCTCCTCCTCCTCCTCCTCCGTACTCATCATCATCATCATCATCATCATCATCATCATCATCATCATCATCATCATCATCATCATACTCATACTCATACTCATACTCATACTCATACTCATACTCATACTCATACTACTACTACTACTACTACTACTACTACTACTACTACTACTACTACTACTACTACTACTACTACTACTACGGGCCGGCCGGCCCCCCCCCCCCCCCCCCCCCCCCCCCCCCCATACGGCCATACGGCCATACGGCCATACGGCATACGGACGCATACGCATACGCATACGAATACGAATAATAATAATAATAATAATAATAATAATAATAATAATAATAATAATAATAATAATAAGGAACCAGCAGCAGCAGCAGAACCAGAACCAGAACCAGAACCACCACCACCACCACCACCACCACCACCACCACCACCACCACCACCACCACCACCACCACCACCACCACCACCACCACCACCACCACCACCACCACCACCACCACCACCACCACCACCACCACCACCACCACCACACACACACACACACACACACACACACACACACACACACACACACACACAACAACAACAACAACAACAACAACAACAACAACAACAACAACAACAACAACAAAAAAAAAAAAAAAAAAAAAATTTTTTTTTTTTTTTTTGTTGTTGTTGTTGTTGTGTGTGTGTGGTCTTGGTCTTGGTCTTGGTCTTGGTCTTGGTCTTCTTCTTCTTCTTCTTCTTCTTCTTCTTCGTCGTATTCGTATTCGTATTATTATTATTATTATTATTATTATTATTATTATTATTATTATTATTATTATTATTATTATGCTTATGCTTATGCTTATGCTTATGCTGCTGCTGCTGCGTATGCGTATGCGTATGCCTGCCTGCCTGCCTGCCTGA'"
      ]
     },
     "execution_count": 18,
     "metadata": {},
     "output_type": "execute_result"
    }
   ],
   "source": [
    "kmers = composition(3,ch1_first_1000)\n",
    "assembled_seq=assembly_helper.reconstruct(kmers)\n",
    "assembled_seq"
   ]
  },
  {
   "cell_type": "code",
   "execution_count": 19,
   "metadata": {},
   "outputs": [
    {
     "name": "stdout",
     "output_type": "stream",
     "text": [
      "CCACACCACACCCACACACCCACACACCACACCACACACCACACCACACC\n",
      "||  |  |     |                |  ||  |  || || |  |\n",
      "CCTGATGATGATGATGATGATCGTAGTAGTAGTACTGAGTACTCCTCCTC\n",
      "CACACACACACATCCTAACACTACCCTAACACAGCCCTAATCTAACCCTG\n",
      "| |   | |     |   | |  ||    |     |||  ||    |   \n",
      "CTCCTCCTCCTCCTCCTCCTCCTCCTCCTCCTCCTCCTCCTCCGTACTCA\n",
      "GCCAACCTGTCTCTCAACTTACCCTCCATTACCCTGCCTCCACTCGTTAC\n",
      " |       ||       | | | ||     |     |  ||       |\n",
      "TCATCATCATCATCATCATCATCATCATCATCATCATCATCATCATCATC\n",
      "CCTGTCCCATTCAACCATACCACTCCGAACCACCATCCATCCCTCTACTT\n",
      "    ||  | |||  |  |          |   |    |  | |   | |\n",
      "ATCATCATACTCATACTCATACTCATACTCATACTCATACTCATACTCAT\n",
      "ACTACCACTCACCCACCGTTACCCTCCAATTACCCATATCCAACCCACTG\n",
      "|||   |||    |  |     |  | | |    |   | | ||      \n",
      "ACTCATACTACTACTACTACTACTACTACTACTACTACTACTACTACTAC\n",
      "CCACTTACCCTACCATTACCCTACCATCCACCATGACCTACTCACCATAC\n",
      "        |      |    |||| |    ||        | | ||   |\n",
      "TACTACTACTACTACTACTACTACTACGGGCCGGCCGGCCCCCCCCCCCC\n",
      "TGTTCTTCTACCCACCATATTGAAACGCTAACAAATGATCGTAAATAACA\n",
      "    |  |  ||| ||    |    |  ||       |  |  |      \n",
      "CCCCCCCCCCCCCCCCCCCATACGGCCATACGGCCATACGGCCATACGGC\n",
      "CACACGTGCTTACCCTACCACTTTATACCACCACCACATGCCATACTCAC\n",
      "     |       |  |      ||      |     ||   |     | \n",
      "ATACGGACGCATACGCATACGCATACGAATACGAATAATAATAATAATAA\n",
      "CCTCACTTGTATACTGATTTTACGTACGCACACGGATGCTACAGTATATA\n",
      "    | |  ||     | |     ||   | |   ||  ||  | |    \n",
      "TAATAATAATAATAATAATAATAATAATAATAATAATAATAAGGAACCAG\n",
      "CCATCTCAAACTTACCCTACTCTCAGATTCCACTTCACTCCATGGCCCAT\n",
      "|     ||     |||  |  |  |      ||  |   |     | |  \n",
      "CAGCAGCAGCAGAACCAGAACCAGAACCAGAACCACCACCACCACCACCA\n",
      "CTCTCACTGAATCAGTACCAAATGCACTCACATCATTATGCACGGCACTT\n",
      "|   |||     |     | |   |   |||  |      |||  |    \n",
      "CCACCACCACCACCACCACCACCACCACCACCACCACCACCACCACCACC\n",
      "GCCTCAGCGGTCTATACCCTGTGCCATTTACCCATAACGCCCATCATTAT\n",
      " || |  |   |   |||     |       |||  ||  ||| ||  | \n",
      "ACCACCACCACCACCACCACCACCACCACCACCACCACCACCACCACCAC\n",
      "CCACATTTTGATATCTATATCTCATTCGGCGGTCCCAAATATTGTATAAC\n",
      "|  ||     |   | | |          |   | || | |       ||\n",
      "CACCACCACCACCACCACACACACACACACACACACACACACACACACAC\n",
      "TGCCCTTAATACATACGTTATACCACTTTTGCACCATATACTTACCACTC\n",
      "   |    | ||| ||   |            || | |     | ||   \n",
      "ACACACACACACACACAACAACAACAACAACAACAACAACAACAACAACA\n",
      "CATTTATATACACTTATGTCAATATTACAGAAAAATCCCCACAAAAATCA\n",
      "     |   |||   |    || |  | | |||||            |  \n",
      "ACAACAACAACAACAACAAAAAAAAAAAAAAAAAAAAAATTTTTTTTTTT\n",
      "CCTAAACATAAAAATATTCTACTTTTCAACAATAATACATAAACATATTG\n",
      "  |     |     | || |  | |          |   |     | |||\n",
      "TTTTTTGTTGTTGTTGTTGTTGTGTGTGTGTGGTCTTGGTCTTGGTCTTG\n",
      "GCTTGTGGTAGCAACACTATCATGGTATCACTAACGTAAAAGTTCCTCAA\n",
      "|  |  |       |    || |  | |   |    |     ||| ||  \n",
      "GTCTTGGTCTTGGTCTTCTTCTTCTTCTTCTTCTTCTTCTTCTTCGTCGT\n",
      "TATTGCAATTTGCTTGAACGGATGCTATTTCAGAATATTTCGTACTTACA\n",
      "  | | | |    ||      ||  |  ||   | ||||       |   \n",
      "ATTCGTATTCGTATTATTATTATTATTATTATTATTATTATTATTATTAT\n",
      "CAGGCCATACATTAGAATAATATGTCACATCACTGTCGTAACACTCTTTA\n",
      " |        ||||  || ||    |  ||   | |  | |  ||  |  \n",
      "TATTATTATTATTATTATTATTATGCTTATGCTTATGCTTATGCTTATGC\n",
      "TTCACCGAGCAATAATACGGTAGTGGCTCAAACTCATGCGGGTGCTATGA\n",
      "| |  |        || ||   | |  |      |   | |      |||\n",
      "TGCTGCTGCTGCGTATGCGTATGCGTATGCCTGCCTGCCTGCCTGCCTGA\n"
     ]
    }
   ],
   "source": [
    "assembly_helper.print_alignment(ch1_first_1000,assembled_seq,num_to_print=50)"
   ]
  },
  {
   "cell_type": "markdown",
   "metadata": {},
   "source": [
    "How does that look to you? Take a look at all C's in a row. And all the T's and the altnerating AC's. Ahhh...."
   ]
  },
  {
   "cell_type": "markdown",
   "metadata": {},
   "source": [
    "The real question is not whether this assembly is wrong (it clearly is), but the question is what caused this problem? There are a number of things to consider:\n",
    "1. It could be a bug in our program (it isn't :)\n",
    "2. It could be that our program returned one of many possible assemblies (ding ding ding!). \n",
    "\n",
    "It is the second complication. With a small $k$-mer value we run the risk of too much variability in the assemblies that are possible. "
   ]
  },
  {
   "cell_type": "markdown",
   "metadata": {},
   "source": [
    "**Stop and experiment:** See how the results change as you increase the $k$ value:"
   ]
  },
  {
   "cell_type": "code",
   "execution_count": 20,
   "metadata": {},
   "outputs": [
    {
     "data": {
      "text/plain": [
       "'CCACACCACACCCACACACCCACACACCACACCACACCACACACCACACCCACACACACACATCCTAACACTACCCTAACACAGCCCTAATCTAACCCTGGCCAACCTGTCTCTCAACTTACCCTCCATTACCCTGCCTCCACTCGTTACCCTGTCCCATTCAACCATACCACTCCGAACCACCATCCATCCCTCTACTTACTACCACTCACCCACCGTTACCCTCCAATTACCCATATCCAACCCACTGCCACTTACCCTACCATTACCCTACCATCCACCATGACCTACTCACCATACTGTTCTTCTACCCACCATATTGAAACGCTAACAAATGATCGTAAATAACACACACGTGCTTACCCTACCACTTTATACCACCACCACATGCCATACTCACCCTCACTTGTATACTGATTTTACGTACGCACACGGATGCTACAGTATATACCATCTCAAACTTACCCTACTCTCAGATTCCACTTCACTCCATGGCCCATCTCTCACTGAATCAGTACCAAATGCACTCACATCATTATGCACGGCACTTGCCTCAGCGGTCTATACCCTGTGCCATTTACCCATAACGCCCATCATTATCCACATTTTGATATCTATATCTCATTCGGCGGTCCCAAATATTGTATAACTGCCCTTAATACATACGTTATACCACTTTTGCACCATATACTTACCACTCCATTTATATACACTTATGTCAATATTACAGAAAAATCCCCACAAAAATCACCTAAACATAAAAATATTCTACTTTTCAACAATAATACATAAACATATTGGCTTGTGGTAGCAACACTATCATGGTATCACTAACGTAAAAGTTCCTCAATATTGCAATTTGCTTGAACGGATGCTATTTCAGAATATTTCGTACTTACACAGGCCATACATTAGAATAATATGTCACATCACTGTCGTAACACTCTTTATTCACCGAGCAATAATACGGTAGTGGCTCAAACTCATGCGGGTGCTATGA'"
      ]
     },
     "execution_count": 20,
     "metadata": {},
     "output_type": "execute_result"
    }
   ],
   "source": [
    "kmers=composition(11,ch1_first_1000)\n",
    "assembled_seq=assembly_helper.reconstruct(kmers)\n",
    "assembled_seq"
   ]
  },
  {
   "cell_type": "code",
   "execution_count": 21,
   "metadata": {},
   "outputs": [
    {
     "name": "stdout",
     "output_type": "stream",
     "text": [
      "CCACACCACACCCACACACCCACACACCACACCACACACCACACCACACC\n",
      "|||||||||||||||||||||||||||||||||||||  |||||||||||\n",
      "CCACACCACACCCACACACCCACACACCACACCACACCACACACCACACC\n",
      "CACACACACACATCCTAACACTACCCTAACACAGCCCTAATCTAACCCTG\n",
      "||||||||||||||||||||||||||||||||||||||||||||||||||\n",
      "CACACACACACATCCTAACACTACCCTAACACAGCCCTAATCTAACCCTG\n",
      "GCCAACCTGTCTCTCAACTTACCCTCCATTACCCTGCCTCCACTCGTTAC\n",
      "||||||||||||||||||||||||||||||||||||||||||||||||||\n",
      "GCCAACCTGTCTCTCAACTTACCCTCCATTACCCTGCCTCCACTCGTTAC\n",
      "CCTGTCCCATTCAACCATACCACTCCGAACCACCATCCATCCCTCTACTT\n",
      "||||||||||||||||||||||||||||||||||||||||||||||||||\n",
      "CCTGTCCCATTCAACCATACCACTCCGAACCACCATCCATCCCTCTACTT\n",
      "ACTACCACTCACCCACCGTTACCCTCCAATTACCCATATCCAACCCACTG\n",
      "||||||||||||||||||||||||||||||||||||||||||||||||||\n",
      "ACTACCACTCACCCACCGTTACCCTCCAATTACCCATATCCAACCCACTG\n",
      "CCACTTACCCTACCATTACCCTACCATCCACCATGACCTACTCACCATAC\n",
      "||||||||||||||||||||||||||||||||||||||||||||||||||\n",
      "CCACTTACCCTACCATTACCCTACCATCCACCATGACCTACTCACCATAC\n",
      "TGTTCTTCTACCCACCATATTGAAACGCTAACAAATGATCGTAAATAACA\n",
      "||||||||||||||||||||||||||||||||||||||||||||||||||\n",
      "TGTTCTTCTACCCACCATATTGAAACGCTAACAAATGATCGTAAATAACA\n",
      "CACACGTGCTTACCCTACCACTTTATACCACCACCACATGCCATACTCAC\n",
      "||||||||||||||||||||||||||||||||||||||||||||||||||\n",
      "CACACGTGCTTACCCTACCACTTTATACCACCACCACATGCCATACTCAC\n",
      "CCTCACTTGTATACTGATTTTACGTACGCACACGGATGCTACAGTATATA\n",
      "||||||||||||||||||||||||||||||||||||||||||||||||||\n",
      "CCTCACTTGTATACTGATTTTACGTACGCACACGGATGCTACAGTATATA\n",
      "CCATCTCAAACTTACCCTACTCTCAGATTCCACTTCACTCCATGGCCCAT\n",
      "||||||||||||||||||||||||||||||||||||||||||||||||||\n",
      "CCATCTCAAACTTACCCTACTCTCAGATTCCACTTCACTCCATGGCCCAT\n",
      "CTCTCACTGAATCAGTACCAAATGCACTCACATCATTATGCACGGCACTT\n",
      "||||||||||||||||||||||||||||||||||||||||||||||||||\n",
      "CTCTCACTGAATCAGTACCAAATGCACTCACATCATTATGCACGGCACTT\n",
      "GCCTCAGCGGTCTATACCCTGTGCCATTTACCCATAACGCCCATCATTAT\n",
      "||||||||||||||||||||||||||||||||||||||||||||||||||\n",
      "GCCTCAGCGGTCTATACCCTGTGCCATTTACCCATAACGCCCATCATTAT\n",
      "CCACATTTTGATATCTATATCTCATTCGGCGGTCCCAAATATTGTATAAC\n",
      "||||||||||||||||||||||||||||||||||||||||||||||||||\n",
      "CCACATTTTGATATCTATATCTCATTCGGCGGTCCCAAATATTGTATAAC\n",
      "TGCCCTTAATACATACGTTATACCACTTTTGCACCATATACTTACCACTC\n",
      "||||||||||||||||||||||||||||||||||||||||||||||||||\n",
      "TGCCCTTAATACATACGTTATACCACTTTTGCACCATATACTTACCACTC\n",
      "CATTTATATACACTTATGTCAATATTACAGAAAAATCCCCACAAAAATCA\n",
      "||||||||||||||||||||||||||||||||||||||||||||||||||\n",
      "CATTTATATACACTTATGTCAATATTACAGAAAAATCCCCACAAAAATCA\n",
      "CCTAAACATAAAAATATTCTACTTTTCAACAATAATACATAAACATATTG\n",
      "||||||||||||||||||||||||||||||||||||||||||||||||||\n",
      "CCTAAACATAAAAATATTCTACTTTTCAACAATAATACATAAACATATTG\n",
      "GCTTGTGGTAGCAACACTATCATGGTATCACTAACGTAAAAGTTCCTCAA\n",
      "||||||||||||||||||||||||||||||||||||||||||||||||||\n",
      "GCTTGTGGTAGCAACACTATCATGGTATCACTAACGTAAAAGTTCCTCAA\n",
      "TATTGCAATTTGCTTGAACGGATGCTATTTCAGAATATTTCGTACTTACA\n",
      "||||||||||||||||||||||||||||||||||||||||||||||||||\n",
      "TATTGCAATTTGCTTGAACGGATGCTATTTCAGAATATTTCGTACTTACA\n",
      "CAGGCCATACATTAGAATAATATGTCACATCACTGTCGTAACACTCTTTA\n",
      "||||||||||||||||||||||||||||||||||||||||||||||||||\n",
      "CAGGCCATACATTAGAATAATATGTCACATCACTGTCGTAACACTCTTTA\n",
      "TTCACCGAGCAATAATACGGTAGTGGCTCAAACTCATGCGGGTGCTATGA\n",
      "||||||||||||||||||||||||||||||||||||||||||||||||||\n",
      "TTCACCGAGCAATAATACGGTAGTGGCTCAAACTCATGCGGGTGCTATGA\n"
     ]
    }
   ],
   "source": [
    "assembly_helper.print_alignment(ch1_first_1000,assembled_seq,num_to_print=50)"
   ]
  },
  {
   "cell_type": "markdown",
   "metadata": {},
   "source": [
    "Well that's better! But there are still a couple of errors. Try increasing the k-value and see if we can correct the problem."
   ]
  },
  {
   "cell_type": "code",
   "execution_count": 22,
   "metadata": {},
   "outputs": [
    {
     "data": {
      "text/plain": [
       "'CCACACCACACCCACACACCCACACACCACACCACACACCACACCACACCCACACACACACATCCTAACACTACCCTAACACAGCCCTAATCTAACCCTGGCCAACCTGTCTCTCAACTTACCCTCCATTACCCTGCCTCCACTCGTTACCCTGTCCCATTCAACCATACCACTCCGAACCACCATCCATCCCTCTACTTACTACCACTCACCCACCGTTACCCTCCAATTACCCATATCCAACCCACTGCCACTTACCCTACCATTACCCTACCATCCACCATGACCTACTCACCATACTGTTCTTCTACCCACCATATTGAAACGCTAACAAATGATCGTAAATAACACACACGTGCTTACCCTACCACTTTATACCACCACCACATGCCATACTCACCCTCACTTGTATACTGATTTTACGTACGCACACGGATGCTACAGTATATACCATCTCAAACTTACCCTACTCTCAGATTCCACTTCACTCCATGGCCCATCTCTCACTGAATCAGTACCAAATGCACTCACATCATTATGCACGGCACTTGCCTCAGCGGTCTATACCCTGTGCCATTTACCCATAACGCCCATCATTATCCACATTTTGATATCTATATCTCATTCGGCGGTCCCAAATATTGTATAACTGCCCTTAATACATACGTTATACCACTTTTGCACCATATACTTACCACTCCATTTATATACACTTATGTCAATATTACAGAAAAATCCCCACAAAAATCACCTAAACATAAAAATATTCTACTTTTCAACAATAATACATAAACATATTGGCTTGTGGTAGCAACACTATCATGGTATCACTAACGTAAAAGTTCCTCAATATTGCAATTTGCTTGAACGGATGCTATTTCAGAATATTTCGTACTTACACAGGCCATACATTAGAATAATATGTCACATCACTGTCGTAACACTCTTTATTCACCGAGCAATAATACGGTAGTGGCTCAAACTCATGCGGGTGCTATGA'"
      ]
     },
     "execution_count": 22,
     "metadata": {},
     "output_type": "execute_result"
    }
   ],
   "source": [
    "kmers=composition(13,ch1_first_1000)\n",
    "assembled_seq=assembly_helper.reconstruct(kmers)\n",
    "assembled_seq"
   ]
  },
  {
   "cell_type": "code",
   "execution_count": 23,
   "metadata": {},
   "outputs": [
    {
     "name": "stdout",
     "output_type": "stream",
     "text": [
      "CCACACCACACCCACACACCCACACACCACACCACACACCACACCACACC\n",
      "||||||||||||||||||||||||||||||||||||||||||||||||||\n",
      "CCACACCACACCCACACACCCACACACCACACCACACACCACACCACACC\n",
      "CACACACACACATCCTAACACTACCCTAACACAGCCCTAATCTAACCCTG\n",
      "||||||||||||||||||||||||||||||||||||||||||||||||||\n",
      "CACACACACACATCCTAACACTACCCTAACACAGCCCTAATCTAACCCTG\n",
      "GCCAACCTGTCTCTCAACTTACCCTCCATTACCCTGCCTCCACTCGTTAC\n",
      "||||||||||||||||||||||||||||||||||||||||||||||||||\n",
      "GCCAACCTGTCTCTCAACTTACCCTCCATTACCCTGCCTCCACTCGTTAC\n",
      "CCTGTCCCATTCAACCATACCACTCCGAACCACCATCCATCCCTCTACTT\n",
      "||||||||||||||||||||||||||||||||||||||||||||||||||\n",
      "CCTGTCCCATTCAACCATACCACTCCGAACCACCATCCATCCCTCTACTT\n",
      "ACTACCACTCACCCACCGTTACCCTCCAATTACCCATATCCAACCCACTG\n",
      "||||||||||||||||||||||||||||||||||||||||||||||||||\n",
      "ACTACCACTCACCCACCGTTACCCTCCAATTACCCATATCCAACCCACTG\n",
      "CCACTTACCCTACCATTACCCTACCATCCACCATGACCTACTCACCATAC\n",
      "||||||||||||||||||||||||||||||||||||||||||||||||||\n",
      "CCACTTACCCTACCATTACCCTACCATCCACCATGACCTACTCACCATAC\n",
      "TGTTCTTCTACCCACCATATTGAAACGCTAACAAATGATCGTAAATAACA\n",
      "||||||||||||||||||||||||||||||||||||||||||||||||||\n",
      "TGTTCTTCTACCCACCATATTGAAACGCTAACAAATGATCGTAAATAACA\n",
      "CACACGTGCTTACCCTACCACTTTATACCACCACCACATGCCATACTCAC\n",
      "||||||||||||||||||||||||||||||||||||||||||||||||||\n",
      "CACACGTGCTTACCCTACCACTTTATACCACCACCACATGCCATACTCAC\n",
      "CCTCACTTGTATACTGATTTTACGTACGCACACGGATGCTACAGTATATA\n",
      "||||||||||||||||||||||||||||||||||||||||||||||||||\n",
      "CCTCACTTGTATACTGATTTTACGTACGCACACGGATGCTACAGTATATA\n",
      "CCATCTCAAACTTACCCTACTCTCAGATTCCACTTCACTCCATGGCCCAT\n",
      "||||||||||||||||||||||||||||||||||||||||||||||||||\n",
      "CCATCTCAAACTTACCCTACTCTCAGATTCCACTTCACTCCATGGCCCAT\n",
      "CTCTCACTGAATCAGTACCAAATGCACTCACATCATTATGCACGGCACTT\n",
      "||||||||||||||||||||||||||||||||||||||||||||||||||\n",
      "CTCTCACTGAATCAGTACCAAATGCACTCACATCATTATGCACGGCACTT\n",
      "GCCTCAGCGGTCTATACCCTGTGCCATTTACCCATAACGCCCATCATTAT\n",
      "||||||||||||||||||||||||||||||||||||||||||||||||||\n",
      "GCCTCAGCGGTCTATACCCTGTGCCATTTACCCATAACGCCCATCATTAT\n",
      "CCACATTTTGATATCTATATCTCATTCGGCGGTCCCAAATATTGTATAAC\n",
      "||||||||||||||||||||||||||||||||||||||||||||||||||\n",
      "CCACATTTTGATATCTATATCTCATTCGGCGGTCCCAAATATTGTATAAC\n",
      "TGCCCTTAATACATACGTTATACCACTTTTGCACCATATACTTACCACTC\n",
      "||||||||||||||||||||||||||||||||||||||||||||||||||\n",
      "TGCCCTTAATACATACGTTATACCACTTTTGCACCATATACTTACCACTC\n",
      "CATTTATATACACTTATGTCAATATTACAGAAAAATCCCCACAAAAATCA\n",
      "||||||||||||||||||||||||||||||||||||||||||||||||||\n",
      "CATTTATATACACTTATGTCAATATTACAGAAAAATCCCCACAAAAATCA\n",
      "CCTAAACATAAAAATATTCTACTTTTCAACAATAATACATAAACATATTG\n",
      "||||||||||||||||||||||||||||||||||||||||||||||||||\n",
      "CCTAAACATAAAAATATTCTACTTTTCAACAATAATACATAAACATATTG\n",
      "GCTTGTGGTAGCAACACTATCATGGTATCACTAACGTAAAAGTTCCTCAA\n",
      "||||||||||||||||||||||||||||||||||||||||||||||||||\n",
      "GCTTGTGGTAGCAACACTATCATGGTATCACTAACGTAAAAGTTCCTCAA\n",
      "TATTGCAATTTGCTTGAACGGATGCTATTTCAGAATATTTCGTACTTACA\n",
      "||||||||||||||||||||||||||||||||||||||||||||||||||\n",
      "TATTGCAATTTGCTTGAACGGATGCTATTTCAGAATATTTCGTACTTACA\n",
      "CAGGCCATACATTAGAATAATATGTCACATCACTGTCGTAACACTCTTTA\n",
      "||||||||||||||||||||||||||||||||||||||||||||||||||\n",
      "CAGGCCATACATTAGAATAATATGTCACATCACTGTCGTAACACTCTTTA\n",
      "TTCACCGAGCAATAATACGGTAGTGGCTCAAACTCATGCGGGTGCTATGA\n",
      "||||||||||||||||||||||||||||||||||||||||||||||||||\n",
      "TTCACCGAGCAATAATACGGTAGTGGCTCAAACTCATGCGGGTGCTATGA\n"
     ]
    }
   ],
   "source": [
    "assembly_helper.print_alignment(ch1_first_1000,assembled_seq,num_to_print=50)"
   ]
  },
  {
   "cell_type": "markdown",
   "metadata": {},
   "source": [
    "So now our question becomes, is this it? Can we call it a day? Well don't forget that Yeast has more than one chromosome. If you construct kmers from two chromosomes, then our algorithm falls apart and needs significant improvements."
   ]
  },
  {
   "cell_type": "code",
   "execution_count": 25,
   "metadata": {},
   "outputs": [
    {
     "data": {
      "text/plain": [
       "'AAATAGCCCTCATGTACGTCTCCTCCAAGC'"
      ]
     },
     "execution_count": 25,
     "metadata": {},
     "output_type": "execute_result"
    }
   ],
   "source": [
    "ch2_first_30 = seqs[1][:30].upper()\n",
    "ch2_first_30"
   ]
  },
  {
   "cell_type": "markdown",
   "metadata": {},
   "source": [
    "**Warning:** This is supposed to produce an error as the graph produced by combining the kmers from the two chromosomes is not structured correctly for our assembler."
   ]
  },
  {
   "cell_type": "code",
   "execution_count": 26,
   "metadata": {},
   "outputs": [
    {
     "ename": "KeyError",
     "evalue": "'TCTCCTCCAAGC'",
     "output_type": "error",
     "traceback": [
      "\u001b[0;31m---------------------------------------------------------------------------\u001b[0m",
      "\u001b[0;31mKeyError\u001b[0m                                  Traceback (most recent call last)",
      "\u001b[0;32m<ipython-input-26-cb10b549a41e>\u001b[0m in \u001b[0;36m<module>\u001b[0;34m\u001b[0m\n\u001b[1;32m      1\u001b[0m \u001b[0mkmers\u001b[0m\u001b[0;34m=\u001b[0m\u001b[0mcomposition\u001b[0m\u001b[0;34m(\u001b[0m\u001b[0;36m13\u001b[0m\u001b[0;34m,\u001b[0m\u001b[0mch1_first_1000\u001b[0m\u001b[0;34m)\u001b[0m\u001b[0;34m+\u001b[0m\u001b[0mcomposition\u001b[0m\u001b[0;34m(\u001b[0m\u001b[0;36m13\u001b[0m\u001b[0;34m,\u001b[0m\u001b[0mch2_first_30\u001b[0m\u001b[0;34m)\u001b[0m\u001b[0;34m\u001b[0m\u001b[0;34m\u001b[0m\u001b[0m\n\u001b[0;32m----> 2\u001b[0;31m \u001b[0massembled_seq\u001b[0m\u001b[0;34m=\u001b[0m\u001b[0massembly_helper\u001b[0m\u001b[0;34m.\u001b[0m\u001b[0mreconstruct\u001b[0m\u001b[0;34m(\u001b[0m\u001b[0mkmers\u001b[0m\u001b[0;34m)\u001b[0m\u001b[0;34m\u001b[0m\u001b[0;34m\u001b[0m\u001b[0m\n\u001b[0m\u001b[1;32m      3\u001b[0m \u001b[0massembled_seq\u001b[0m\u001b[0;34m\u001b[0m\u001b[0;34m\u001b[0m\u001b[0m\n",
      "\u001b[0;32m~/assembly/assembly_helper.py\u001b[0m in \u001b[0;36mreconstruct\u001b[0;34m(kmers)\u001b[0m\n\u001b[1;32m    108\u001b[0m \u001b[0;32mdef\u001b[0m \u001b[0mreconstruct\u001b[0m\u001b[0;34m(\u001b[0m\u001b[0mkmers\u001b[0m\u001b[0;34m)\u001b[0m\u001b[0;34m:\u001b[0m\u001b[0;34m\u001b[0m\u001b[0;34m\u001b[0m\u001b[0m\n\u001b[1;32m    109\u001b[0m     \u001b[0mdB\u001b[0m \u001b[0;34m=\u001b[0m \u001b[0mde_bruijn\u001b[0m\u001b[0;34m(\u001b[0m\u001b[0mkmers\u001b[0m\u001b[0;34m)\u001b[0m\u001b[0;34m\u001b[0m\u001b[0;34m\u001b[0m\u001b[0m\n\u001b[0;32m--> 110\u001b[0;31m     \u001b[0mpath\u001b[0m \u001b[0;34m=\u001b[0m \u001b[0meulerian_path\u001b[0m\u001b[0;34m(\u001b[0m\u001b[0mdB\u001b[0m\u001b[0;34m)\u001b[0m\u001b[0;34m\u001b[0m\u001b[0;34m\u001b[0m\u001b[0m\n\u001b[0m\u001b[1;32m    111\u001b[0m     \u001b[0mtext\u001b[0m \u001b[0;34m=\u001b[0m \u001b[0;34m\"\"\u001b[0m\u001b[0;34m\u001b[0m\u001b[0;34m\u001b[0m\u001b[0m\n\u001b[1;32m    112\u001b[0m     \u001b[0;31m# YOUR SOLUTION HERE\u001b[0m\u001b[0;34m\u001b[0m\u001b[0;34m\u001b[0m\u001b[0;34m\u001b[0m\u001b[0m\n",
      "\u001b[0;32m~/assembly/assembly_helper.py\u001b[0m in \u001b[0;36meulerian_path\u001b[0;34m(G)\u001b[0m\n\u001b[1;32m     99\u001b[0m     \u001b[0mG2\u001b[0m \u001b[0;34m=\u001b[0m \u001b[0mcopy\u001b[0m\u001b[0;34m.\u001b[0m\u001b[0mdeepcopy\u001b[0m\u001b[0;34m(\u001b[0m\u001b[0mG\u001b[0m\u001b[0;34m)\u001b[0m\u001b[0;34m\u001b[0m\u001b[0;34m\u001b[0m\u001b[0m\n\u001b[1;32m    100\u001b[0m     \u001b[0mG2\u001b[0m\u001b[0;34m.\u001b[0m\u001b[0madd_edge\u001b[0m\u001b[0;34m(\u001b[0m\u001b[0mend\u001b[0m\u001b[0;34m,\u001b[0m\u001b[0mstart\u001b[0m\u001b[0;34m)\u001b[0m\u001b[0;34m\u001b[0m\u001b[0;34m\u001b[0m\u001b[0m\n\u001b[0;32m--> 101\u001b[0;31m     \u001b[0mcycle\u001b[0m \u001b[0;34m=\u001b[0m \u001b[0meulerian_cycle\u001b[0m\u001b[0;34m(\u001b[0m\u001b[0mG2\u001b[0m\u001b[0;34m)\u001b[0m\u001b[0;34m\u001b[0m\u001b[0;34m\u001b[0m\u001b[0m\n\u001b[0m\u001b[1;32m    102\u001b[0m     \u001b[0;32mwhile\u001b[0m \u001b[0;32mnot\u001b[0m \u001b[0;34m(\u001b[0m\u001b[0mcycle\u001b[0m\u001b[0;34m[\u001b[0m\u001b[0;36m0\u001b[0m\u001b[0;34m]\u001b[0m \u001b[0;34m==\u001b[0m \u001b[0mstart\u001b[0m \u001b[0;32mand\u001b[0m \u001b[0mcycle\u001b[0m\u001b[0;34m[\u001b[0m\u001b[0;34m-\u001b[0m\u001b[0;36m2\u001b[0m\u001b[0;34m]\u001b[0m \u001b[0;34m==\u001b[0m \u001b[0mend\u001b[0m\u001b[0;34m)\u001b[0m\u001b[0;34m:\u001b[0m\u001b[0;34m\u001b[0m\u001b[0;34m\u001b[0m\u001b[0m\n\u001b[1;32m    103\u001b[0m         \u001b[0mcycle\u001b[0m \u001b[0;34m=\u001b[0m \u001b[0;34m[\u001b[0m\u001b[0mcycle\u001b[0m\u001b[0;34m[\u001b[0m\u001b[0;34m-\u001b[0m\u001b[0;36m2\u001b[0m\u001b[0;34m]\u001b[0m\u001b[0;34m]\u001b[0m \u001b[0;34m+\u001b[0m \u001b[0mcycle\u001b[0m\u001b[0;34m[\u001b[0m\u001b[0;36m0\u001b[0m\u001b[0;34m:\u001b[0m\u001b[0;34m-\u001b[0m\u001b[0;36m2\u001b[0m\u001b[0;34m]\u001b[0m \u001b[0;34m+\u001b[0m \u001b[0;34m[\u001b[0m\u001b[0mcycle\u001b[0m\u001b[0;34m[\u001b[0m\u001b[0;34m-\u001b[0m\u001b[0;36m2\u001b[0m\u001b[0;34m]\u001b[0m\u001b[0;34m]\u001b[0m\u001b[0;34m\u001b[0m\u001b[0;34m\u001b[0m\u001b[0m\n",
      "\u001b[0;32m~/assembly/assembly_helper.py\u001b[0m in \u001b[0;36meulerian_cycle\u001b[0;34m(G, start)\u001b[0m\n\u001b[1;32m     49\u001b[0m     \u001b[0;32mwhile\u001b[0m \u001b[0mecnt\u001b[0m \u001b[0;34m<\u001b[0m \u001b[0mcnt\u001b[0m\u001b[0;34m:\u001b[0m\u001b[0;34m\u001b[0m\u001b[0;34m\u001b[0m\u001b[0m\n\u001b[1;32m     50\u001b[0m         \u001b[0;32mwhile\u001b[0m \u001b[0;32mTrue\u001b[0m\u001b[0;34m:\u001b[0m\u001b[0;34m\u001b[0m\u001b[0;34m\u001b[0m\u001b[0m\n\u001b[0;32m---> 51\u001b[0;31m             \u001b[0mneighbors\u001b[0m \u001b[0;34m=\u001b[0m \u001b[0medges\u001b[0m\u001b[0;34m[\u001b[0m\u001b[0mcurrent\u001b[0m\u001b[0;34m]\u001b[0m\u001b[0;34m\u001b[0m\u001b[0;34m\u001b[0m\u001b[0m\n\u001b[0m\u001b[1;32m     52\u001b[0m             \u001b[0;32mif\u001b[0m \u001b[0mlen\u001b[0m\u001b[0;34m(\u001b[0m\u001b[0mneighbors\u001b[0m\u001b[0;34m)\u001b[0m \u001b[0;34m>\u001b[0m \u001b[0;36m0\u001b[0m\u001b[0;34m:\u001b[0m\u001b[0;34m\u001b[0m\u001b[0;34m\u001b[0m\u001b[0m\n\u001b[1;32m     53\u001b[0m                 \u001b[0;32mbreak\u001b[0m\u001b[0;34m\u001b[0m\u001b[0;34m\u001b[0m\u001b[0m\n",
      "\u001b[0;31mKeyError\u001b[0m: 'TCTCCTCCAAGC'"
     ]
    }
   ],
   "source": [
    "kmers=composition(13,ch1_first_1000)+composition(13,ch2_first_30)\n",
    "assembled_seq=assembly_helper.reconstruct(kmers)\n",
    "assembled_seq"
   ]
  },
  {
   "cell_type": "markdown",
   "metadata": {},
   "source": [
    "Now that you've gone through one run of the notebook, feel free to play around with any of the parameters!"
   ]
  },
  {
   "cell_type": "code",
   "execution_count": null,
   "metadata": {},
   "outputs": [],
   "source": []
  }
 ],
 "metadata": {
  "kernelspec": {
   "display_name": "Python 3",
   "language": "python",
   "name": "python3"
  },
  "language_info": {
   "codemirror_mode": {
    "name": "ipython",
    "version": 3
   },
   "file_extension": ".py",
   "mimetype": "text/x-python",
   "name": "python",
   "nbconvert_exporter": "python",
   "pygments_lexer": "ipython3",
   "version": "3.7.3"
  }
 },
 "nbformat": 4,
 "nbformat_minor": 4
}
